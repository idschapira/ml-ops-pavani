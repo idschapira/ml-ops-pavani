{
  "nbformat": 4,
  "nbformat_minor": 0,
  "metadata": {
    "colab": {
      "provenance": [],
      "mount_file_id": "14YOoQyYXnuyn3nO0wt8Wh6jKZiILLx8K",
      "authorship_tag": "ABX9TyP3OGkyoVacXuh5GzkI3vdN",
      "include_colab_link": true
    },
    "kernelspec": {
      "name": "python3",
      "display_name": "Python 3"
    },
    "language_info": {
      "name": "python"
    }
  },
  "cells": [
    {
      "cell_type": "markdown",
      "metadata": {
        "id": "view-in-github",
        "colab_type": "text"
      },
      "source": [
        "<a href=\"https://colab.research.google.com/github/rchavarria3007/ml-ops-pavani/blob/main/gold_ml_attrition.ipynb\" target=\"_parent\"><img src=\"https://colab.research.google.com/assets/colab-badge.svg\" alt=\"Open In Colab\"/></a>"
      ]
    },
    {
      "cell_type": "code",
      "execution_count": null,
      "metadata": {
        "id": "Z3z9exDMRjBJ"
      },
      "outputs": [],
      "source": [
        "from google.colab import drive\n",
        "drive.mount('/content/drive')"
      ]
    },
    {
      "cell_type": "code",
      "source": [
        "# ==============================================================================\n",
        "# Setup e Carregamento de Dados\n",
        "# ==============================================================================\n",
        "import pandas as pd\n",
        "import numpy as np\n",
        "from sklearn.preprocessing import PolynomialFeatures, LabelEncoder\n",
        "from google.colab import files\n",
        "import io\n",
        "\n",
        "# Configuração para exibir todas as colunas do pandas\n",
        "pd.set_option('display.max_columns', None)\n",
        "\n",
        "# Carregamento do dataset\n",
        "try:\n",
        "    file_name = \"/content/drive/MyDrive/dev/datascienceexp/sv_hr_final_features_v1.csv\"\n",
        "    sv_hr_features = pd.read_csv(file_name)\n",
        "    print(f\"\\nDataset '{file_name}' carregado com sucesso!\")\n",
        "    print(\"Dimensões do dataset:\", sv_hr_features.head())\n",
        "except StopIteration:\n",
        "    print(\"\\nNenhum arquivo foi enviado.\")\n",
        "    sv_hr_features = None\n",
        "except Exception as e:\n",
        "    print(f\"Ocorreu um erro ao carregar o arquivo: {e}\")\n",
        "    sv_hr_features = None\n",
        "\n"
      ],
      "metadata": {
        "colab": {
          "base_uri": "https://localhost:8080/"
        },
        "id": "i37H1c0VR7_E",
        "outputId": "7688b254-8ae8-4fa0-9738-18e95acd05d8"
      },
      "execution_count": 1,
      "outputs": [
        {
          "output_type": "stream",
          "name": "stdout",
          "text": [
            "\n",
            "Dataset '/content/drive/MyDrive/dev/datascienceexp/sv_hr_final_features_v1.csv' carregado com sucesso!\n",
            "Dimensões do dataset:    MaritalStatus_TargetEncoded  IndiceDeBurnout^2  MonthlyIncome^2  \\\n",
            "0                     0.255319               36.0       35916049.0   \n",
            "1                     0.124814               25.0       26316900.0   \n",
            "2                     0.255319               25.0        4368100.0   \n",
            "3                     0.124814               25.0        8462281.0   \n",
            "4                     0.124814               25.0       12027024.0   \n",
            "\n",
            "   MonthlyIncome_X_IndiceDeBurnout  YearsAtCompany_X_IndiceDeBurnout  \\\n",
            "0                          35958.0                              36.0   \n",
            "1                          25650.0                              50.0   \n",
            "2                          10450.0                               0.0   \n",
            "3                          14545.0                              40.0   \n",
            "4                          17340.0                              10.0   \n",
            "\n",
            "   MonthlyIncome_X_IndiceDeSatisfacaoGeral  \\\n",
            "0                             13983.666667   \n",
            "1                             15390.000000   \n",
            "2                              6270.000000   \n",
            "3                              9696.666667   \n",
            "4                              8092.000000   \n",
            "\n",
            "   YearsAtCompany_X_IndiceDeSatisfacaoGeral  \\\n",
            "0                                 14.000000   \n",
            "1                                 30.000000   \n",
            "2                                  0.000000   \n",
            "3                                 26.666667   \n",
            "4                                  4.666667   \n",
            "\n",
            "   IndiceDeBurnout_X_IndiceDeSatisfacaoGeral  \n",
            "0                                  14.000000  \n",
            "1                                  15.000000  \n",
            "2                                  15.000000  \n",
            "3                                  16.666667  \n",
            "4                                  11.666667  \n"
          ]
        }
      ]
    }
  ]
}